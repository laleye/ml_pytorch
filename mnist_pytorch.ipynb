{
  "nbformat": 4,
  "nbformat_minor": 0,
  "metadata": {
    "colab": {
      "name": "mnist_pytorch.ipynb",
      "provenance": [],
      "collapsed_sections": [],
      "authorship_tag": "ABX9TyNHRddqh+isoyYkg6lcze/z",
      "include_colab_link": true
    },
    "kernelspec": {
      "name": "python3",
      "display_name": "Python 3"
    }
  },
  "cells": [
    {
      "cell_type": "markdown",
      "metadata": {
        "id": "view-in-github",
        "colab_type": "text"
      },
      "source": [
        "<a href=\"https://colab.research.google.com/github/laleye/ml_pytorch/blob/master/mnist_pytorch.ipynb\" target=\"_parent\"><img src=\"https://colab.research.google.com/assets/colab-badge.svg\" alt=\"Open In Colab\"/></a>"
      ]
    },
    {
      "cell_type": "code",
      "metadata": {
        "id": "9VFB9LjgO41t",
        "colab_type": "code",
        "colab": {}
      },
      "source": [
        "import torch\n",
        "import torchvision\n",
        "from torchvision import datasets, transforms\n",
        "import torch.nn.functional as F"
      ],
      "execution_count": 0,
      "outputs": []
    },
    {
      "cell_type": "code",
      "metadata": {
        "id": "zM97JtWwPFUr",
        "colab_type": "code",
        "outputId": "0f75ff35-7846-4909-fe89-b21dde83487c",
        "colab": {
          "base_uri": "https://localhost:8080/",
          "height": 35
        }
      },
      "source": [
        "# load mnist data\n",
        "transform = transforms.Compose([transforms.ToTensor(), transforms.Normalize((0.1307,), (0.3081,))])\n",
        "train_data_loader = torch.utils.data.DataLoader(datasets.MNIST('data/', train=True, download=True, transform=transform), batch_size=32, shuffle=True)\n",
        "test_data_loader = torch.utils.data.DataLoader(datasets.MNIST('data/', train=False, download=True, transform=transform), batch_size=32, shuffle=True)\n",
        "\n",
        "print(train_data_loader)\n",
        "\n",
        "\n"
      ],
      "execution_count": 74,
      "outputs": [
        {
          "output_type": "stream",
          "text": [
            "<torch.utils.data.dataloader.DataLoader object at 0x7f8dbe1c6ef0>\n"
          ],
          "name": "stdout"
        }
      ]
    },
    {
      "cell_type": "code",
      "metadata": {
        "id": "xrLnAjXERmyp",
        "colab_type": "code",
        "colab": {}
      },
      "source": [
        "weights = torch.randn(784, 10, requires_grad=True)"
      ],
      "execution_count": 0,
      "outputs": []
    },
    {
      "cell_type": "code",
      "metadata": {
        "id": "37KkMqvtIVUx",
        "colab_type": "code",
        "colab": {}
      },
      "source": [
        "def test(weights, test_data_loader):\n",
        "\n",
        "  n_correct = 0\n",
        "  dataset_size = len(test_data_loader.dataset)\n",
        "  for batch_size, (data, targets) in enumerate(test_data_loader):\n",
        "    #print(batch_size, data.shape, targets.shape)\n",
        "    data = data.view((-1, 28*28))\n",
        "    #print(batch_size, data.shape, targets.shape)\n",
        "\n",
        "    outputs = torch.matmul(data, weights)\n",
        "    softmax = F.log_softmax(outputs, dim=1)\n",
        "\n",
        "    prediction = softmax.argmax(dim=1, keepdim=True)\n",
        "    #print(prediction.shape)\n",
        "    targets = targets.view_as(prediction)\n",
        "    \n",
        "    corr = prediction.eq(targets).sum().item()\n",
        "    #print(corr)\n",
        "    n_correct = n_correct + corr\n",
        "\n",
        "\n",
        "  acc = n_correct / dataset_size\n",
        "  print('Accuracy on test set is {}'.format(acc))\n",
        "\n",
        "test(weights, test_data_loader)"
      ],
      "execution_count": 0,
      "outputs": []
    },
    {
      "cell_type": "code",
      "metadata": {
        "id": "9pF_FZb1Kv8u",
        "colab_type": "code",
        "colab": {}
      },
      "source": [
        "lr = 0.1\n",
        "\n",
        "def train(train_data_loader, weights):\n",
        "  it = 0\n",
        "  for batch_size, (data, targets) in enumerate(train_data_loader):\n",
        "\n",
        "    if weights.grad is not None:\n",
        "      weights.grad.zero_()\n",
        "    print(weights)\n",
        "\n",
        "    data = data.view((-1, 28*28))\n",
        "\n",
        "    outputs = torch.matmul(data, weigths)\n",
        "\n",
        "    softmax = F.log_softmax(outputs, dim=1)\n",
        "    loss = F.nll_loss(softmax, targets)\n",
        "    print(\"\\rLoss shape: {}\".format(loss), end=\"\")\n",
        "\n",
        "    # Compute the gradients for each variables\n",
        "    loss.backward()\n",
        "\n",
        "    with torch.no_grad():\n",
        "      weights -= lr*weights.grad\n",
        "\n",
        "    it += 1\n",
        "    if it % 100 == 0:\n",
        "        test(weights, test_loader)\n",
        "        \n",
        "    if it > 5000:\n",
        "        break\n",
        "\n"
      ],
      "execution_count": 0,
      "outputs": []
    },
    {
      "cell_type": "code",
      "metadata": {
        "id": "rJ_lJWFjW_L5",
        "colab_type": "code",
        "colab": {}
      },
      "source": [
        "train(train_data_loader, weights)"
      ],
      "execution_count": 0,
      "outputs": []
    },
    {
      "cell_type": "code",
      "metadata": {
        "id": "AIFOiI6Lg0J3",
        "colab_type": "code",
        "colab": {}
      },
      "source": [
        ""
      ],
      "execution_count": 0,
      "outputs": []
    }
  ]
}